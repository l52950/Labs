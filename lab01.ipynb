{
 "cells": [
  {
   "cell_type": "code",
   "execution_count": 3,
   "metadata": {},
   "outputs": [
    {
     "data": {
      "text/plain": [
       "False"
      ]
     },
     "execution_count": 3,
     "metadata": {},
     "output_type": "execute_result"
    }
   ],
   "source": [
    "#1\n",
    "valor = 3.5\n",
    "valor == int(valor)"
   ]
  },
  {
   "cell_type": "code",
   "execution_count": 2,
   "metadata": {},
   "outputs": [
    {
     "data": {
      "text/plain": [
       "False"
      ]
     },
     "execution_count": 2,
     "metadata": {},
     "output_type": "execute_result"
    }
   ],
   "source": [
    "#2\n",
    "valor = 5 \n",
    "valor % 2 == 0"
   ]
  },
  {
   "cell_type": "code",
   "execution_count": 14,
   "metadata": {},
   "outputs": [
    {
     "data": {
      "text/plain": [
       "False"
      ]
     },
     "execution_count": 14,
     "metadata": {},
     "output_type": "execute_result"
    }
   ],
   "source": [
    "#3\n",
    "valorA = 3\n",
    "valorA == int(valorA)\n",
    "valorB = 5\n",
    "valorB == int(valorB)\n",
    "valorA > valorB == 0"
   ]
  },
  {
   "cell_type": "code",
   "execution_count": 21,
   "metadata": {},
   "outputs": [
    {
     "data": {
      "text/plain": [
       "True"
      ]
     },
     "execution_count": 21,
     "metadata": {},
     "output_type": "execute_result"
    }
   ],
   "source": [
    "#4\n",
    "valor = 6\n",
    "valor == int(valor)\n",
    "valor1 = 3\n",
    "valor1 == int(valor1)\n",
    "valor % valor1 == 0 or valor1 % valor == 0"
   ]
  },
  {
   "cell_type": "code",
   "execution_count": 17,
   "metadata": {},
   "outputs": [
    {
     "name": "stdout",
     "output_type": "stream",
     "text": [
      "nº1:4\n",
      "nº2:2\n"
     ]
    },
    {
     "data": {
      "text/plain": [
       "True"
      ]
     },
     "execution_count": 17,
     "metadata": {},
     "output_type": "execute_result"
    }
   ],
   "source": [
    "#4.1\n",
    "valor1 = int(input(\"nº1:\"))\n",
    "valor2 = int(input(\"nº2:\"))\n",
    "valor1 % valor2 == 0 or valor2 % valor1 == 0"
   ]
  },
  {
   "cell_type": "code",
   "execution_count": 5,
   "metadata": {},
   "outputs": [
    {
     "name": "stdout",
     "output_type": "stream",
     "text": [
      "Capital:200\n",
      "Years:3\n",
      "Rate:0.03\n",
      "18.0\n"
     ]
    }
   ],
   "source": [
    "#5\n",
    "capital = int(input(\"Capital:\"))\n",
    "years = int(input(\"Years:\"))\n",
    "rate = float(input(\"Rate:\"))\n",
    "x = capital * rate * years\n",
    "print(x)\n",
    "\n"
   ]
  },
  {
   "cell_type": "code",
   "execution_count": 6,
   "metadata": {},
   "outputs": [
    {
     "name": "stdout",
     "output_type": "stream",
     "text": [
      "Capital:200\n",
      "Years:3\n",
      "Rate:0.03\n",
      "218.5454\n"
     ]
    }
   ],
   "source": [
    "#6\n",
    "capital = int(input(\"Capital:\"))\n",
    "years = int(input(\"Years:\"))\n",
    "rate = float(input(\"Rate:\"))\n",
    "x = capital * (1 + rate) ** years\n",
    "print(x)"
   ]
  },
  {
   "cell_type": "code",
   "execution_count": 11,
   "metadata": {},
   "outputs": [
    {
     "name": "stdout",
     "output_type": "stream",
     "text": [
      "Qual é a altura? 1.57\n",
      "Qual é o peso? 56\n",
      "22.7189744005842\n"
     ]
    }
   ],
   "source": [
    "#7 BMI = masskg/height^2\n",
    "altura = float(input('Qual é a altura? '))\n",
    "peso = float(input('Qual é o peso? '))\n",
    "bmi = peso / (altura**2)\n",
    "print(bmi)"
   ]
  },
  {
   "cell_type": "code",
   "execution_count": 13,
   "metadata": {},
   "outputs": [
    {
     "name": "stdout",
     "output_type": "stream",
     "text": [
      "1.618033988749895\n",
      "1.618033988749895\n"
     ]
    }
   ],
   "source": [
    "#8.1\n",
    "\n",
    "gr = (1 + (5**(1/2)))/2\n",
    "print(gr)\n",
    "\n",
    "#8.2\n",
    "\n",
    "import math \n",
    "gr = (1 + math.sqrt(5))/2\n",
    "print(gr)"
   ]
  },
  {
   "cell_type": "code",
   "execution_count": null,
   "metadata": {},
   "outputs": [],
   "source": [
    "#9 "
   ]
  },
  {
   "cell_type": "code",
   "execution_count": 17,
   "metadata": {},
   "outputs": [
    {
     "name": "stdout",
     "output_type": "stream",
     "text": [
      "Qual é o teu nome? patricia\n",
      "Qual é a tua idade? 21\n",
      "Esta pessoa nasceu no ano 1998 .\n",
      "Esta pessoa nasceu no ano 1998 .\n"
     ]
    }
   ],
   "source": [
    "#10 \n",
    "\n",
    "nome = input('Qual é o teu nome? ')\n",
    "idade = int(input('Qual é a tua idade? '))\n",
    "\n",
    "#10.1\n",
    "\n",
    "ano = 2019 - idade\n",
    "print('Esta pessoa nasceu no ano '+str(ano), '.')\n",
    "\n",
    "#10.2\n",
    "\n",
    "from datetime import date\n",
    "today = date.today()\n",
    "presente = today.year\n",
    "ano = presente - idade\n",
    "print('Esta pessoa nasceu no ano '+str(ano), '.')\n",
    "\n"
   ]
  },
  {
   "cell_type": "code",
   "execution_count": 20,
   "metadata": {},
   "outputs": [
    {
     "name": "stdout",
     "output_type": "stream",
     "text": [
      "Insira o seu nome próprio: patricia \n",
      "Insira o seu sobrenome: pereira\n",
      "PATRICIA PEREIRA\n",
      "Patricia Pereira\n",
      "patricia pereira\n",
      "Patricia pereira\n"
     ]
    }
   ],
   "source": [
    "#11\n",
    "\n",
    "primeiroNome = input('Insira o seu nome próprio: ')\n",
    "sobreNome = input('Insira o seu sobrenome: ')\n",
    "nome = primeiroNome + sobreNome\n",
    "nameBig = nome.upper() #todos os caracteres com letras maiusculas\n",
    "print(nameBig)\n",
    "nameTitle = nome.title() #apenas o primeiro caracter de cada nome é maiusculo\n",
    "print(nameTitle)\n",
    "nameSmall = nome.lower() #todos os caracteres sao minusculos\n",
    "print(nameSmall)\n",
    "nameCapitalized = nome.capitalize() #apenas o primeiro caracter do primeiro nome é maiusculo\n",
    "print(nameCapitalized)\n",
    "\n"
   ]
  },
  {
   "cell_type": "code",
   "execution_count": 13,
   "metadata": {},
   "outputs": [
    {
     "name": "stdout",
     "output_type": "stream",
     "text": [
      "-1\n"
     ]
    }
   ],
   "source": [
    "#12\n",
    "nome = str('patricia pereira')\n",
    "print(nome.find('da',0,-1))\n",
    "\n"
   ]
  },
  {
   "cell_type": "code",
   "execution_count": null,
   "metadata": {},
   "outputs": [],
   "source": []
  }
 ],
 "metadata": {
  "kernelspec": {
   "display_name": "Python 3",
   "language": "python",
   "name": "python3"
  },
  "language_info": {
   "codemirror_mode": {
    "name": "ipython",
    "version": 3
   },
   "file_extension": ".py",
   "mimetype": "text/x-python",
   "name": "python",
   "nbconvert_exporter": "python",
   "pygments_lexer": "ipython3",
   "version": "3.7.3"
  }
 },
 "nbformat": 4,
 "nbformat_minor": 2
}
